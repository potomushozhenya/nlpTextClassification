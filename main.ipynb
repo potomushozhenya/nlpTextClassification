{
 "cells": [
  {
   "cell_type": "code",
   "execution_count": 81,
   "id": "b2a0b332-c092-45e2-ac49-36e89c38fdb2",
   "metadata": {
    "scrolled": true
   },
   "outputs": [
    {
     "name": "stderr",
     "output_type": "stream",
     "text": [
      "[nltk_data] Downloading package stopwords to\n",
      "[nltk_data]     C:\\Users\\zhest\\AppData\\Roaming\\nltk_data...\n",
      "[nltk_data]   Package stopwords is already up-to-date!\n",
      "[nltk_data] Downloading package punkt to\n",
      "[nltk_data]     C:\\Users\\zhest\\AppData\\Roaming\\nltk_data...\n",
      "[nltk_data]   Package punkt is already up-to-date!\n",
      "[nltk_data] Downloading package wordnet to\n",
      "[nltk_data]     C:\\Users\\zhest\\AppData\\Roaming\\nltk_data...\n",
      "[nltk_data]   Package wordnet is already up-to-date!\n"
     ]
    },
    {
     "name": "stdout",
     "output_type": "stream",
     "text": [
      "1771\n",
      "1179\n"
     ]
    }
   ],
   "source": [
    "from sklearn.datasets import fetch_20newsgroups\n",
    "from nltk.stem import WordNetLemmatizer, PorterStemmer\n",
    "from nltk.corpus import stopwords\n",
    "from nltk import word_tokenize\n",
    "import nltk\n",
    "from sklearn.feature_extraction.text import CountVectorizer, TfidfVectorizer\n",
    "from sklearn.tree import DecisionTreeClassifier\n",
    "from sklearn.metrics import f1_score\n",
    "from tabulate import tabulate\n",
    "nltk.download('stopwords')\n",
    "nltk.download('punkt')\n",
    "nltk.download('wordnet')\n",
    "stop_words = stopwords.words('english')\n",
    "\n",
    "\n",
    "categories = ['rec.autos', 'comp.graphics', 'sci.space']\n",
    "train = fetch_20newsgroups(subset='train', categories=categories, shuffle=True)\n",
    "test = fetch_20newsgroups(subset='test', categories=categories, shuffle=True)\n",
    "x_train = train.data\n",
    "y_train = train.target\n",
    "x_test = test.data\n",
    "y_test = test.target\n",
    "print(len(x_train))\n",
    "print(len(x_test))"
   ]
  },
  {
   "cell_type": "code",
   "execution_count": 82,
   "id": "3386abd2-ced3-4a4e-9ab9-4b0963f9b5d1",
   "metadata": {},
   "outputs": [
    {
     "data": {
      "text/plain": [
       "[\"From: prb@access.digex.com (Pat)\\nSubject: Re: Abyss: breathing fluids\\nArticle-I.D.: access.1psghn$s7r\\nOrganization: Express Access Online Communications USA\\nLines: 19\\nNNTP-Posting-Host: access.digex.net\\n\\nIn article <C4t3K3.498@cck.coventry.ac.uk> enf021@cck.coventry.ac.uk (Achurist) writes:\\n|\\n|I believe the reason is that the lung diaphram gets too tired to pump\\n|the liquid in and out and simply stops breathing after 2-3 minutes.\\n|So if your in the vehicle ready to go they better not put you on \\n|hold, or else!! That's about it. Remember a liquid is several more times\\n|as dense as a gas by its very nature. ~10 I think, depending on the gas\\n|and liquid comparision of course!\\n\\n\\nCould you use some sort of mechanical chest compression as an aid.\\nSorta like the portable Iron Lung?   Put some sort of flex tubing\\naround the 'aquanauts' chest.  Cyclically compress it  and it will\\npush enough on the chest wall to support breathing?????\\n\\nYou'd have to trust your breather,  but in space, you have to trust\\nyour suit anyway.\\n\\npat\\n\",\n",
       " \"From: mmadsen@bonnie.ics.uci.edu (Matt Madsen)\\nSubject: Re: Please Recommend 3D Graphics Library For Mac.\\nNntp-Posting-Host: bonnie.ics.uci.edu\\nReply-To: mmadsen@ics.uci.edu (Matt Madsen)\\nOrganization: Univ. of Calif., Irvine, Info. & Computer Sci. Dept.\\nLines: 27\\n\\nRobert G. Carpenter writes:\\n\\n>Hi Netters,\\n>\\n>I'm building a CAD package and need a 3D graphics library that can handle\\n>some rudimentry tasks, such as hidden line removal, shading, animation, etc.\\n>\\n>Can you please offer some recommendations?\\n>\\n>I'll also need contact info (name, address, email...) if you can find it.\\n>\\n>Thanks\\n>\\n>(Please Post Your Responses, in case others have same need)\\n>\\n>Bob Carpenter\\n>\\n\\nI too would like a 3D graphics library!  How much do C libraries cost\\nanyway?  Can you get the tools used by, say, RenderMan, and can you get\\nthem at a reasonable cost?\\n\\nSorry that I don't have any answers, just questions...\\n\\nMatt Madsen\\nmmadsen@ics.uci.edu\\n\\n\",\n",
       " 'From: tom@igc.apc.org\\nSubject: computer cult\\nNf-ID: #N:cdp:1469100033:000:2451\\nNf-From: cdp.UUCP!tom    Apr 24 09:26:00 1993\\nLines: 59\\n\\n\\nFrom: <tom>\\nSubject: computer cult\\n\\nFrom scott Fri Apr 23 16:31:21 1993\\nReceived: by igc.apc.org (4.1/Revision: 1.77 )\\n\\tid AA16121; Fri, 23 Apr 93 16:31:09 PDT\\nDate: Fri, 23 Apr 93 16:31:09 PDT\\nMessage-Id: <9304232331.AA16121@igc.apc.org>\\nFrom: Scott Weikart <scott>\\nSender: scott\\nTo: cdplist\\nSubject: Next stand-off?\\nStatus: R\\n\\nRedwood City, CA (API) -- A tense stand-off entered its third week\\ntoday as authorities reported no progress in negotiations with\\ncharismatic cult leader Steve Jobs.\\n\\nNegotiators are uncertain of the situation inside the compound, but\\nsome reports suggest that half of the hundreds of followers inside\\nhave been terminated.  Others claim to be staying of their own free\\nwill, but Jobs\\' persuasive manner makes this hard to confirm.\\n\\nIn conversations with authorities, Jobs has given conflicting\\ninformation on how heavily prepared the group is for war with the\\nindustry.  At times, he has claimed to \"have hardware which will blow\\nanything else away\", while more recently he claims they have stopped\\nmanufacturing their own.\\n\\nAgents from the ATF (Apple-Taligent Forces) believe that the group is\\nequipped with serious hardware, including 486-caliber pieces and\\npossibly Canon equipment.\\n\\nThe siege has attracted a variety of spectators, from the curious to\\nother cultists.  Some have offered to intercede in negotiations,\\nincluding a young man who will identify himself only as \"Bill\" and\\nclaims to be the \"MS-iah\".\\n\\nFormer members of the cult, some only recently deprogrammed, speak\\nhesitantly of their former lives, including being forced to work\\n20-hour days, and subsisting on Jolt and Twinkies.  There were\\nfrequent lectures in which they were indoctrinated into a theory of\\n\"interpersonal computing\" which rejects traditional roles.\\n\\nLate-night vigils on Chesapeake Drive are taking their toll on\\nfederal marshals.  Loud rock and roll, mostly Talking Heads, blares\\nthroughout the night.  Some fear that Jobs will fulfill his own\\napocalyptic prophecies, a worry reinforced when the loudspeakers\\ncarry Jobs\\' own speeches -- typically beginning with a chilling \"I\\nwant to welcome you to the \\'Next World\\' \".\\n\\n- - -- \\nRoland J. Schemers III              |            Networking Systems\\nSystems Programmer                  |            G16 Redwood Hall (415) 723-6740\\nDistributed Computing Group         |            Stanford, CA 94305-4122\\nStanford University                 |            schemers@Slapshot.Stanford.EDU\\n\\n\\n']"
      ]
     },
     "execution_count": 82,
     "metadata": {},
     "output_type": "execute_result"
    }
   ],
   "source": [
    "x_train[0:3]"
   ]
  },
  {
   "cell_type": "code",
   "execution_count": 83,
   "id": "664d6268-f39f-470c-8309-532c2e5ecc0e",
   "metadata": {},
   "outputs": [
    {
     "data": {
      "text/plain": [
       "array([2, 0, 2], dtype=int64)"
      ]
     },
     "execution_count": 83,
     "metadata": {},
     "output_type": "execute_result"
    }
   ],
   "source": [
    "y_train[0:3]"
   ]
  },
  {
   "cell_type": "code",
   "execution_count": 84,
   "id": "808e2544-5ffa-4fed-aacd-b90b13ef7526",
   "metadata": {},
   "outputs": [],
   "source": [
    "def lemmatizeText(input):\n",
    "    lemmatizer = WordNetLemmatizer()\n",
    "    #Tokenizers divide strings into lists of substrings\n",
    "    wordList = word_tokenize(input)\n",
    "    output = ' '.join([lemmatizer.lemmatize(w) for w in wordList])\n",
    "    return output"
   ]
  },
  {
   "cell_type": "code",
   "execution_count": 85,
   "id": "94645376-03dc-40dc-985e-f5c158805519",
   "metadata": {},
   "outputs": [],
   "source": [
    "def stemText(input):\n",
    "    stemmer = PorterStemmer()\n",
    "    wordList = word_tokenize(input)\n",
    "    output = ' '.join([stemmer.stem(w) for w in wordList])\n",
    "    return output"
   ]
  },
  {
   "cell_type": "code",
   "execution_count": 86,
   "id": "d463eaa7-3ec5-427a-ad79-c333318fb4d1",
   "metadata": {},
   "outputs": [],
   "source": [
    "def train(x_train, x_test, y_train, y_test, n):\n",
    "    clf = DecisionTreeClassifier(random_state=n)\n",
    "    clf.fit(x_train, y_train)\n",
    "    y_pred = clf.predict(x_test)\n",
    "    return f1_score(y_test, y_pred, average='weighted')"
   ]
  },
  {
   "cell_type": "code",
   "execution_count": 87,
   "id": "f2f1929f-1c48-479c-a4b5-3f1bc81fb252",
   "metadata": {},
   "outputs": [],
   "source": [
    "def textProcessing(unpocessedTexts, function=None):\n",
    "    if function is None:\n",
    "        return unpocessedTexts\n",
    "    return [function(text) for text in unpocessedTexts]"
   ]
  },
  {
   "cell_type": "code",
   "execution_count": 88,
   "id": "edec5427-0587-4666-a6fd-a3bda5a9f2ae",
   "metadata": {
    "scrolled": true
   },
   "outputs": [
    {
     "name": "stdout",
     "output_type": "stream",
     "text": [
      "Maximum: 0.8306363451454507\n",
      "------------  ------------------  ------------------  ------------------\n",
      "n=10          None                Stemming            Lemmatizer\n",
      "One-hot       0.8252365096951894  0.8094146391955721  0.8306363451454507\n",
      "Bag of words  0.8244443231912999  0.8262304473291578  0.8060278518435906\n",
      "Tf-idf        0.8179071050196688  0.8071139561958257  0.8109129939261458\n",
      "------------  ------------------  ------------------  ------------------\n",
      "Maximum: 0.834755964565014\n",
      "------------  ------------------  ------------------  ------------------\n",
      "n=20          None                Stemming            Lemmatizer\n",
      "One-hot       0.8303187281517309  0.824595635867611   0.8086049828896322\n",
      "Bag of words  0.834755964565014   0.8215246741694298  0.8220792009567596\n",
      "Tf-idf        0.8145501817775157  0.8015531808896347  0.8117518482373658\n",
      "------------  ------------------  ------------------  ------------------\n",
      "Maximum: 0.8286168694591729\n",
      "------------  ------------------  ------------------  ------------------\n",
      "n=30          None                Stemming            Lemmatizer\n",
      "One-hot       0.8262653202588316  0.8177135473643102  0.8197687129074684\n",
      "Bag of words  0.8286168694591729  0.8248448627641243  0.8236474723210031\n",
      "Tf-idf        0.817099098564409   0.7973696877461646  0.8084733515129715\n",
      "------------  ------------------  ------------------  ------------------\n",
      "Maximum: 0.8313636857238975\n",
      "------------  ------------------  ------------------  ------------------\n",
      "n=40          None                Stemming            Lemmatizer\n",
      "One-hot       0.8313636857238975  0.8169310825288314  0.8153364188700365\n",
      "Bag of words  0.8242802751018707  0.8247831222715611  0.8143943500950703\n",
      "Tf-idf        0.8176342240536391  0.8001007693912566  0.8116430983186989\n",
      "------------  ------------------  ------------------  ------------------\n",
      "Maximum: 0.8295453388999308\n",
      "------------  ------------------  ------------------  ------------------\n",
      "n=50          None                Stemming            Lemmatizer\n",
      "One-hot       0.8244636319326538  0.8274720565705911  0.8230072101159969\n",
      "Bag of words  0.8295453388999308  0.8205311228419585  0.8135065398395284\n",
      "Tf-idf        0.8054634646406265  0.8007460131887614  0.8211878809264143\n",
      "------------  ------------------  ------------------  ------------------\n",
      "Maximum: 0.832072516179898\n",
      "------------  ------------------  ------------------  ------------------\n",
      "n=60          None                Stemming            Lemmatizer\n",
      "One-hot       0.8220620379221063  0.8186080542122128  0.8101583103837081\n",
      "Bag of words  0.832072516179898   0.8119094587242931  0.8126934816517059\n",
      "Tf-idf        0.8179344679523514  0.8056679754683604  0.8159598134910374\n",
      "------------  ------------------  ------------------  ------------------\n",
      "Maximum: 0.8296167994642183\n",
      "------------  ------------------  ------------------  ------------------\n",
      "n=70          None                Stemming            Lemmatizer\n",
      "One-hot       0.8296167994642183  0.8220571708909848  0.8162354134448837\n",
      "Bag of words  0.8202357125055498  0.8185135683423284  0.815259190337526\n",
      "Tf-idf        0.8271866347750754  0.798561797207594   0.8092728822613973\n",
      "------------  ------------------  ------------------  ------------------\n",
      "Maximum: 0.8306949684245918\n",
      "------------  ------------------  ------------------  ------------------\n",
      "n=80          None                Stemming            Lemmatizer\n",
      "One-hot       0.8280139185502275  0.8085923139850401  0.8204699087494371\n",
      "Bag of words  0.8295250635795111  0.8178510373118204  0.8159731138829605\n",
      "Tf-idf        0.8306949684245918  0.7916558302017631  0.803274863351648\n",
      "------------  ------------------  ------------------  ------------------\n"
     ]
    }
   ],
   "source": [
    "for n in [10,20,30,40,50,60,70,80]:\n",
    "    tableText = [[\"\" for j in range(4)] for i in range(4)]\n",
    "    tableText[0] = [f\"n={n}\", \"None\", \"Stemming\", \"Lemmatizer\"]\n",
    "    tableText[1][0] = \"One-hot\"\n",
    "    tableText[2][0] = \"Bag of words\"\n",
    "    tableText[3][0] = \"Tf-idf\"\n",
    "    for i in range(3):\n",
    "        if i==0:\n",
    "            func = None\n",
    "        if i==1:\n",
    "            func = stemText\n",
    "        if i==2:\n",
    "            func = lemmatizeText\n",
    "        preprocessedTrain = textProcessing(x_train, func)\n",
    "        preprocessedTest = textProcessing(x_test, func)\n",
    "        for j in range(3):\n",
    "            if j==0:\n",
    "                vect = CountVectorizer(binary=True, stop_words=stop_words)\n",
    "            if j==1:\n",
    "                vect = CountVectorizer(binary=False, stop_words=stop_words)\n",
    "            if j==2:\n",
    "                vect = TfidfVectorizer(stop_words=stop_words)\n",
    "            train_vec = vect.fit_transform(preprocessedTrain)\n",
    "            test_vec = vect.transform(preprocessedTest)\n",
    "\n",
    "            f1 = train(train_vec, test_vec, y_train, y_test, n)\n",
    "            tableText[j+1][i+1] = f1\n",
    "    list = [max(tableText[i][1:]) for i in range(1,4)]\n",
    "    maximum = max(list)\n",
    "    print(f\"Maximum: {maximum}\")\n",
    "    print(tabulate(tableText))"
   ]
  },
  {
   "cell_type": "code",
   "execution_count": null,
   "id": "ea23ca2a-e675-461a-81a7-de514c0a4d05",
   "metadata": {},
   "outputs": [],
   "source": []
  }
 ],
 "metadata": {
  "kernelspec": {
   "display_name": "Python 3 (ipykernel)",
   "language": "python",
   "name": "python3"
  },
  "language_info": {
   "codemirror_mode": {
    "name": "ipython",
    "version": 3
   },
   "file_extension": ".py",
   "mimetype": "text/x-python",
   "name": "python",
   "nbconvert_exporter": "python",
   "pygments_lexer": "ipython3",
   "version": "3.11.7"
  }
 },
 "nbformat": 4,
 "nbformat_minor": 5
}
